{
 "cells": [
  {
   "cell_type": "markdown",
   "metadata": {},
   "source": [
    "## Step 1: Restructure directory to match pytorch image dataset structure"
   ]
  },
  {
   "cell_type": "code",
   "execution_count": 1,
   "metadata": {},
   "outputs": [],
   "source": [
    "import os\n",
    "\n",
    "def restructure(dir, num_classes):\n",
    "    for i in range(1, num_classes+1):\n",
    "        dir_to_create = f\".\\\\{dir}\\\\{str(i)}\"\n",
    "        \n",
    "        if not os.path.isdir(dir_to_create):\n",
    "            os.mkdir(dir_to_create)\n",
    "\n",
    "    cwd = os.path.abspath(dir)\n",
    "\n",
    "    for file in os.listdir(dir):\n",
    "        if file.endswith(\".jpg\"):\n",
    "            os.replace(f\"{cwd}\\\\{file}\", f\"{cwd}\\\\{file.split(\"_\")[0]}\\\\{file}\")\n",
    "\n",
    "restructure(\"train_data\", 60)\n",
    "restructure(\"val_data\", 60)"
   ]
  },
  {
   "cell_type": "markdown",
   "metadata": {},
   "source": [
    "## Step 2: Load dataset into torch dataloader"
   ]
  },
  {
   "cell_type": "code",
   "execution_count": 3,
   "metadata": {},
   "outputs": [],
   "source": [
    "import torch.utils.data\n",
    "from torchvision import datasets, transforms\n",
    "\n",
    "train_dataset = datasets.ImageFolder(\"train_data\", transform=transforms.ToTensor())\n",
    "val_dataset = datasets.ImageFolder(\"val_data\", transform=transforms.ToTensor())\n",
    "\n",
    "train_dl = torch.utils.data.DataLoader(train_dataset, batch_size=64, shuffle=True)\n",
    "val_dl = torch.utils.data.DataLoader(val_dataset, batch_size=64, shuffle=True)"
   ]
  }
 ],
 "metadata": {
  "kernelspec": {
   "display_name": "venv",
   "language": "python",
   "name": "python3"
  },
  "language_info": {
   "codemirror_mode": {
    "name": "ipython",
    "version": 3
   },
   "file_extension": ".py",
   "mimetype": "text/x-python",
   "name": "python",
   "nbconvert_exporter": "python",
   "pygments_lexer": "ipython3",
   "version": "3.12.6"
  }
 },
 "nbformat": 4,
 "nbformat_minor": 2
}
